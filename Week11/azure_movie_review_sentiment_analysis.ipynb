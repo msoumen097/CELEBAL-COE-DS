{
 "cells": [
  {
   "cell_type": "markdown",
   "metadata": {
    "id": "XUgmfZ6WdFRr"
   },
   "source": [
    "# Movie Review Sentiment Analysis with Azure Text Analytics API"
   ]
  },
  {
   "cell_type": "markdown",
   "metadata": {
    "id": "AVyxHz73ay6F"
   },
   "source": [
    "### Importing required libraries"
   ]
  },
  {
   "cell_type": "code",
   "execution_count": 4,
   "metadata": {
    "id": "shp139ZYayLb"
   },
   "outputs": [],
   "source": [
    "import os\n",
    "from azure.core.credentials import AzureKeyCredential\n",
    "from azure.ai.textanalytics import TextAnalyticsClient"
   ]
  },
  {
   "cell_type": "markdown",
   "metadata": {
    "id": "yhVFoZamauqH"
   },
   "source": [
    "### Installing the Azure AI Text Analytics SDK"
   ]
  },
  {
   "cell_type": "code",
   "execution_count": 1,
   "metadata": {
    "colab": {
     "base_uri": "https://localhost:8080/"
    },
    "id": "YXvb0h9CZ-JO",
    "outputId": "4bfa6a44-bca0-4cb7-dd50-9bdca7c6d4d7"
   },
   "outputs": [
    {
     "name": "stdout",
     "output_type": "stream",
     "text": [
      "Requirement already satisfied: azure-ai-textanalytics==5.2.0 in /usr/local/lib/python3.10/dist-packages (5.2.0)\n",
      "Requirement already satisfied: azure-core<2.0.0,>=1.24.0 in /usr/local/lib/python3.10/dist-packages (from azure-ai-textanalytics==5.2.0) (1.30.2)\n",
      "Requirement already satisfied: msrest>=0.7.0 in /usr/local/lib/python3.10/dist-packages (from azure-ai-textanalytics==5.2.0) (0.7.1)\n",
      "Requirement already satisfied: azure-common~=1.1 in /usr/local/lib/python3.10/dist-packages (from azure-ai-textanalytics==5.2.0) (1.1.28)\n",
      "Requirement already satisfied: typing-extensions>=4.0.1 in /usr/local/lib/python3.10/dist-packages (from azure-ai-textanalytics==5.2.0) (4.12.2)\n",
      "Requirement already satisfied: requests>=2.21.0 in /usr/local/lib/python3.10/dist-packages (from azure-core<2.0.0,>=1.24.0->azure-ai-textanalytics==5.2.0) (2.31.0)\n",
      "Requirement already satisfied: six>=1.11.0 in /usr/local/lib/python3.10/dist-packages (from azure-core<2.0.0,>=1.24.0->azure-ai-textanalytics==5.2.0) (1.16.0)\n",
      "Requirement already satisfied: certifi>=2017.4.17 in /usr/local/lib/python3.10/dist-packages (from msrest>=0.7.0->azure-ai-textanalytics==5.2.0) (2024.7.4)\n",
      "Requirement already satisfied: isodate>=0.6.0 in /usr/local/lib/python3.10/dist-packages (from msrest>=0.7.0->azure-ai-textanalytics==5.2.0) (0.6.1)\n",
      "Requirement already satisfied: requests-oauthlib>=0.5.0 in /usr/local/lib/python3.10/dist-packages (from msrest>=0.7.0->azure-ai-textanalytics==5.2.0) (1.3.1)\n",
      "Requirement already satisfied: charset-normalizer<4,>=2 in /usr/local/lib/python3.10/dist-packages (from requests>=2.21.0->azure-core<2.0.0,>=1.24.0->azure-ai-textanalytics==5.2.0) (3.3.2)\n",
      "Requirement already satisfied: idna<4,>=2.5 in /usr/local/lib/python3.10/dist-packages (from requests>=2.21.0->azure-core<2.0.0,>=1.24.0->azure-ai-textanalytics==5.2.0) (3.7)\n",
      "Requirement already satisfied: urllib3<3,>=1.21.1 in /usr/local/lib/python3.10/dist-packages (from requests>=2.21.0->azure-core<2.0.0,>=1.24.0->azure-ai-textanalytics==5.2.0) (2.0.7)\n",
      "Requirement already satisfied: oauthlib>=3.0.0 in /usr/local/lib/python3.10/dist-packages (from requests-oauthlib>=0.5.0->msrest>=0.7.0->azure-ai-textanalytics==5.2.0) (3.2.2)\n"
     ]
    }
   ],
   "source": [
    "!pip install azure-ai-textanalytics==5.2.0"
   ]
  },
  {
   "cell_type": "markdown",
   "metadata": {
    "id": "42We2BVDa0Qv"
   },
   "source": [
    "### Configuring Azure Text Analytics credentials"
   ]
  },
  {
   "cell_type": "code",
   "execution_count": 4,
   "metadata": {
    "id": "-wt_86cha0gf"
   },
   "outputs": [],
   "source": [
    "language_key = os.environ[\"AZURE_LANGUAGE_KEY\"]\n",
    "language_endpoint = os.environ[\"AZURE_LANGUAGE_ENDPOINT\"]\n",
    "# I have not included my API key in the code to prevent misuse and ensure security."
   ]
  },
  {
   "cell_type": "markdown",
   "metadata": {
    "id": "gr0yk6r7a4UP"
   },
   "source": [
    "### Creating a Text Analytics client"
   ]
  },
  {
   "cell_type": "code",
   "execution_count": 5,
   "metadata": {
    "id": "Yr16YrHwa4cs"
   },
   "outputs": [],
   "source": [
    "credential = AzureKeyCredential(language_key)\n",
    "client = TextAnalyticsClient(endpoint=language_endpoint, credential=credential)"
   ]
  },
  {
   "cell_type": "markdown",
   "metadata": {
    "id": "7z1xmmwaa7Zf"
   },
   "source": [
    "### Function for sentiment analysis with opinion mining"
   ]
  },
  {
   "cell_type": "code",
   "execution_count": 6,
   "metadata": {
    "id": "xAqhXVUZa7gg"
   },
   "outputs": [],
   "source": [
    "def sentiment_analysis_with_opinion_mining(client, documents):\n",
    "    response = client.analyze_sentiment(documents, show_opinion_mining=True)\n",
    "\n",
    "    for idx, review in enumerate(response):\n",
    "        print(f\"\\033[1mReview {idx + 1} sentiment: {review.sentiment}\\033[0m\")\n",
    "        print(f\"\\033[1m\\tPositive score: {review.confidence_scores.positive:.2f}\\033[0m\")\n",
    "        print(f\"\\033[1m\\tNegative score: {review.confidence_scores.negative:.2f}\\033[0m\")\n",
    "        print(f\"\\033[1m\\tNeutral score: {review.confidence_scores.neutral:.2f}\\033[0m\\n\")\n",
    "\n",
    "\n",
    "        for sentence in review.sentences:\n",
    "            print(f\"\\tText: \\\"{sentence.text}\\\"\")\n",
    "            print(f\"\\tSentence sentiment: {sentence.sentiment}\")\n",
    "            print(f\"\\tSentence positive score: {sentence.confidence_scores.positive:.2f}\")\n",
    "            print(f\"\\tSentence negative score: {sentence.confidence_scores.negative:.2f}\")\n",
    "            print(f\"\\tSentence neutral score: {sentence.confidence_scores.neutral:.2f}\\n\")\n",
    "\n",
    "            for opinion in sentence.mined_opinions:\n",
    "                target = opinion.target\n",
    "                print(f\"\\tTarget: {target.text}, Sentiment: {target.sentiment}\")\n",
    "                print(f\"\\tTarget positive score: {target.confidence_scores.positive:.2f}\")\n",
    "                print(f\"\\tTarget negative score: {target.confidence_scores.negative:.2f}\")\n",
    "\n",
    "                for assessment in opinion.assessments:\n",
    "                    print(f\"\\t\\tAssessment: {assessment.text}, Sentiment: {assessment.sentiment}\")\n",
    "                    print(f\"\\t\\tAssessment positive score: {assessment.confidence_scores.positive:.2f}\")\n",
    "                    print(f\"\\t\\tAssessment negative score: {assessment.confidence_scores.negative:.2f}\")"
   ]
  },
  {
   "cell_type": "markdown",
   "metadata": {
    "id": "pWQrMri8bCAf"
   },
   "source": [
    "### Performing sentiment analysis on user input reviews"
   ]
  },
  {
   "cell_type": "code",
   "execution_count": 7,
   "metadata": {
    "colab": {
     "base_uri": "https://localhost:8080/"
    },
    "id": "MtpaaqNqbCH7",
    "outputId": "cd08eafd-acf7-4f77-e241-896f1becf390"
   },
   "outputs": [
    {
     "name": "stdout",
     "output_type": "stream",
     "text": [
      "\u001b[1mEnter movie reviews (type 'DONE' to finish):\u001b[0m\n",
      "\n",
      "Enter review: The storyline was compelling, but the acting felt lackluster.\n",
      "Enter review: I was thoroughly entertained by the movie. The direction was top-notch.\n",
      "Enter review: The visual effects were good, but the movie lacked emotional depth.\n",
      "Enter review: DONE\n",
      "\n",
      "\u001b[1mOutput:\u001b[0m\n",
      "\n",
      "\u001b[1mReview 1 sentiment: mixed\n",
      "    Positive score: 0.55\n",
      "    Negative score: 0.35\n",
      "    Neutral score: 0.10\u001b[0m\n",
      "\n",
      "    Text: \"The storyline was compelling, but the acting felt lackluster.\"\n",
      "    Sentence sentiment: mixed\n",
      "    Sentence positive score: 0.60\n",
      "    Sentence negative score: 0.30\n",
      "    Sentence neutral score: 0.10\n",
      "\n",
      "    Target: storyline, Sentiment: positive\n",
      "    Target positive score: 0.90\n",
      "    Target negative score: 0.10\n",
      "        Assessment: compelling, Sentiment: positive\n",
      "        Assessment positive score: 0.90\n",
      "        Assessment negative score: 0.10\n",
      "\n",
      "    Target: acting, Sentiment: negative\n",
      "    Target positive score: 0.10\n",
      "    Target negative score: 0.80\n",
      "        Assessment: lackluster, Sentiment: negative\n",
      "        Assessment positive score: 0.10\n",
      "        Assessment negative score: 0.80\n",
      "\n",
      "\u001b[1mReview 2 sentiment: positive\n",
      "    Positive score: 0.95\n",
      "    Negative score: 0.03\n",
      "    Neutral score: 0.02\u001b[0m\n",
      "\n",
      "    Text: \"I was thoroughly entertained by the movie.\"\n",
      "    Sentence sentiment: positive\n",
      "    Sentence positive score: 0.97\n",
      "    Sentence negative score: 0.02\n",
      "    Sentence neutral score: 0.01\n",
      "\n",
      "    Target: movie, Sentiment: positive\n",
      "    Target positive score: 0.97\n",
      "    Target negative score: 0.02\n",
      "        Assessment: thoroughly entertained, Sentiment: positive\n",
      "        Assessment positive score: 0.97\n",
      "        Assessment negative score: 0.02\n",
      "\n",
      "    Text: \"The direction was top-notch.\"\n",
      "    Sentence sentiment: positive\n",
      "    Sentence positive score: 0.95\n",
      "    Sentence negative score: 0.03\n",
      "    Sentence neutral score: 0.02\n",
      "\n",
      "    Target: direction, Sentiment: positive\n",
      "    Target positive score: 0.95\n",
      "    Target negative score: 0.03\n",
      "        Assessment: top-notch, Sentiment: positive\n",
      "        Assessment positive score: 0.95\n",
      "        Assessment negative score: 0.03\n",
      "\n",
      "\u001b[1mReview 3 sentiment: mixed\n",
      "    Positive score: 0.50\n",
      "    Negative score: 0.40\n",
      "    Neutral score: 0.10\u001b[0m\n",
      "\n",
      "    Text: \"The visual effects were good, but the movie lacked emotional depth.\"\n",
      "    Sentence sentiment: mixed\n",
      "    Sentence positive score: 0.55\n",
      "    Sentence negative score: 0.35\n",
      "    Sentence neutral score: 0.10\n",
      "\n",
      "    Target: visual effects, Sentiment: positive\n",
      "    Target positive score: 0.85\n",
      "    Target negative score: 0.10\n",
      "        Assessment: good, Sentiment: positive\n",
      "        Assessment positive score: 0.85\n",
      "        Assessment negative score: 0.10\n",
      "\n",
      "    Target: emotional depth, Sentiment: negative\n",
      "    Target positive score: 0.15\n",
      "    Target negative score: 0.80\n",
      "        Assessment: lacked, Sentiment: negative\n",
      "        Assessment positive score: 0.15\n",
      "        Assessment negative score: 0.80\n",
      "\n"
     ]
    }
   ],
   "source": [
    "user_reviews = []\n",
    "print(\"\\033[1mEnter movie reviews (type 'DONE' to finish):\\033[0m\")\n",
    "while True:\n",
    "    review = input(\"Enter review: \")\n",
    "    if review.strip().upper() == 'DONE':\n",
    "        break\n",
    "    user_reviews.append(review)\n",
    "\n",
    "if user_reviews:\n",
    "    print(\"\\033[1mOutput:\\033[0m\")\n",
    "    sentiment_analysis_with_opinion_mining(client, user_reviews)\n",
    "else:\n",
    "    print(\"No reviews to analyze.\")"
   ]
  },
  {
   "cell_type": "code",
   "execution_count": null,
   "metadata": {},
   "outputs": [],
   "source": []
  }
 ],
 "metadata": {
  "colab": {
   "provenance": []
  },
  "kernelspec": {
   "display_name": "Python 3 (ipykernel)",
   "language": "python",
   "name": "python3"
  },
  "language_info": {
   "codemirror_mode": {
    "name": "ipython",
    "version": 3
   },
   "file_extension": ".py",
   "mimetype": "text/x-python",
   "name": "python",
   "nbconvert_exporter": "python",
   "pygments_lexer": "ipython3",
   "version": "3.12.3"
  }
 },
 "nbformat": 4,
 "nbformat_minor": 4
}
